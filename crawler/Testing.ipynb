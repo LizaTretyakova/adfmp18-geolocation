{
 "cells": [
  {
   "cell_type": "code",
   "execution_count": 71,
   "metadata": {},
   "outputs": [],
   "source": [
    "import requests\n",
    "import re\n",
    "import json\n",
    "import shutil\n",
    "import os\n",
    "\n",
    "import tqdm\n",
    "\n",
    "from bs4 import BeautifulSoup\n",
    "\n",
    "import pandas as pd\n",
    "\n",
    "from collections import defaultdict"
   ]
  },
  {
   "cell_type": "code",
   "execution_count": 72,
   "metadata": {},
   "outputs": [],
   "source": [
    "def cleanhtml(raw_html):\n",
    "    cleanr = re.compile('<.*?>')\n",
    "    cleantext = re.sub(cleanr, '', raw_html)\n",
    "    return cleantext.strip()"
   ]
  },
  {
   "cell_type": "code",
   "execution_count": 101,
   "metadata": {},
   "outputs": [
    {
     "data": {
      "application/vnd.jupyter.widget-view+json": {
       "model_id": "0260fd3e55f34f9fb7eb4defee6e990d",
       "version_major": 2,
       "version_minor": 0
      },
      "text/html": [
       "<p>Failed to display Jupyter Widget of type <code>HBox</code>.</p>\n",
       "<p>\n",
       "  If you're reading this message in Jupyter Notebook or JupyterLab, it may mean\n",
       "  that the widgets JavaScript is still loading. If this message persists, it\n",
       "  likely means that the widgets JavaScript library is either not installed or\n",
       "  not enabled. See the <a href=\"https://ipywidgets.readthedocs.io/en/stable/user_install.html\">Jupyter\n",
       "  Widgets Documentation</a> for setup instructions.\n",
       "</p>\n",
       "<p>\n",
       "  If you're reading this message in another notebook frontend (for example, a static\n",
       "  rendering on GitHub or <a href=\"https://nbviewer.jupyter.org/\">NBViewer</a>),\n",
       "  it may mean that your frontend doesn't currently support widgets.\n",
       "</p>\n"
      ],
      "text/plain": [
       "HBox(children=(IntProgress(value=0, max=11), HTML(value='')))"
      ]
     },
     "metadata": {},
     "output_type": "display_data"
    },
    {
     "name": "stdout",
     "output_type": "stream",
     "text": [
      "\n"
     ]
    }
   ],
   "source": [
    "indexes = list(range(5000, 10000, 500)) + [53786]\n",
    "\n",
    "data = defaultdict(list)\n",
    "\n",
    "for idx in tqdm.tqdm_notebook(indexes):\n",
    "    url = 'http://www.etoretro.ru/pic{}.htm'.format(idx)\n",
    "    r = requests.get(url, allow_redirects=False)\n",
    "\n",
    "    if r.status_code == 200: #redirecting, there is no object with corresponding id\n",
    "        content = r.content.decode(r.encoding)\n",
    "        \n",
    "        meta_search = re.search('gMap.singlePhoto =(.*)', content, re.IGNORECASE)\n",
    "        if meta_search is None: # there is no map!\n",
    "            continue\n",
    "        \n",
    "        meta = json.loads(meta_search.group(1).strip(' ;'))\n",
    "        \n",
    "        if type(meta) is list: # the object is not on the map!\n",
    "            continue\n",
    "                \n",
    "        soup = BeautifulSoup(content, 'lxml')        \n",
    "    \n",
    "        city = cleanhtml(re.search('Старый город:(.*)', content, re.IGNORECASE).group(1))\n",
    "        title = soup.find(property='og:title').get('content')\n",
    "        img_src = soup.find(property='og:image').get('content')\n",
    "\n",
    "        img_r = requests.get(img_src, stream=True)\n",
    "        img_name = img_src.split('/')[~0]\n",
    "        img_path = os.path.join('images', img_name)\n",
    "        with open(img_path, 'wb') as out_file:\n",
    "            shutil.copyfileobj(img_r.raw, out_file)\n",
    "            \n",
    "        data['title'].append(title)\n",
    "        data['city'].append(city)\n",
    "        data['img'].append(img_name)\n",
    "        data['latitude'].append(meta['latitude'])\n",
    "        data['longitude'].append(meta['longitude'])"
   ]
  },
  {
   "cell_type": "code",
   "execution_count": 104,
   "metadata": {},
   "outputs": [],
   "source": [
    "df = pd.DataFrame(data)"
   ]
  },
  {
   "cell_type": "code",
   "execution_count": null,
   "metadata": {},
   "outputs": [],
   "source": [
    "df.to_csv('')"
   ]
  },
  {
   "cell_type": "code",
   "execution_count": null,
   "metadata": {},
   "outputs": [],
   "source": []
  },
  {
   "cell_type": "code",
   "execution_count": null,
   "metadata": {},
   "outputs": [],
   "source": []
  },
  {
   "cell_type": "code",
   "execution_count": null,
   "metadata": {},
   "outputs": [],
   "source": []
  },
  {
   "cell_type": "code",
   "execution_count": null,
   "metadata": {},
   "outputs": [],
   "source": []
  },
  {
   "cell_type": "code",
   "execution_count": null,
   "metadata": {},
   "outputs": [],
   "source": []
  },
  {
   "cell_type": "code",
   "execution_count": null,
   "metadata": {},
   "outputs": [],
   "source": []
  }
 ],
 "metadata": {
  "kernelspec": {
   "display_name": "Python 3",
   "language": "python",
   "name": "python3"
  },
  "language_info": {
   "codemirror_mode": {
    "name": "ipython",
    "version": 3
   },
   "file_extension": ".py",
   "mimetype": "text/x-python",
   "name": "python",
   "nbconvert_exporter": "python",
   "pygments_lexer": "ipython3",
   "version": "3.6.2"
  }
 },
 "nbformat": 4,
 "nbformat_minor": 2
}
